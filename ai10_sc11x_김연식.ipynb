{
  "nbformat": 4,
  "nbformat_minor": 0,
  "metadata": {
    "colab": {
      "name": "ai10_sc11x_김연식.ipynb",
      "provenance": [],
      "collapsed_sections": [],
      "include_colab_link": true
    },
    "kernelspec": {
      "display_name": "Python 3",
      "language": "python",
      "name": "python3"
    },
    "language_info": {
      "codemirror_mode": {
        "name": "ipython",
        "version": 3
      },
      "file_extension": ".py",
      "mimetype": "text/x-python",
      "name": "python",
      "nbconvert_exporter": "python",
      "pygments_lexer": "ipython3",
      "version": "3.9.4"
    }
  },
  "cells": [
    {
      "cell_type": "markdown",
      "metadata": {
        "id": "view-in-github",
        "colab_type": "text"
      },
      "source": [
        "<a href=\"https://colab.research.google.com/github/93model/93model/blob/master/ai10_sc11x_%EA%B9%80%EC%97%B0%EC%8B%9D.ipynb\" target=\"_parent\"><img src=\"https://colab.research.google.com/assets/colab-badge.svg\" alt=\"Open In Colab\"/></a>"
      ]
    },
    {
      "cell_type": "markdown",
      "metadata": {
        "id": "2kYJKHpXFbN2"
      },
      "source": [
        "# SC11x\n",
        "\n",
        "## Data Preprocessing & Exploratory Data Analysis"
      ]
    },
    {
      "cell_type": "markdown",
      "metadata": {
        "id": "qSvL3CeTFk9F"
      },
      "source": [
        "## Data Preprocessing\n",
        "\n",
        "이번 파트에서는 [Gapminder](https://www.gapminder.org/about-gapminder/)의 데이터를 다루게 됩니다.\n",
        "\n",
        "데이터는 3가지로 구성되어 있으며 description은 다음과 같습니다.\n",
        "\n",
        "- <https://ds-lecture-data.s3.ap-northeast-2.amazonaws.com/gapminder/data1.csv>\n",
        "- <https://ds-lecture-data.s3.ap-northeast-2.amazonaws.com/gapminder/data2.csv>\n",
        "- <https://ds-lecture-data.s3.ap-northeast-2.amazonaws.com/gapminder/data3.csv>\n",
        "\n",
        "### data1\n",
        "\n",
        "|geo|time|cell_phones_total|\n",
        "|:-:|:-:|:-:|\n",
        "|kor|2017|63658688|\n",
        "|kor|2018|66355778|\n",
        "|kor|2019|68892541|\n",
        "\n",
        "- 지역, 연도, 통화수\n",
        "\n",
        "### data2\n",
        "\n",
        "|geo|time|population|\n",
        "|:-:|:-:|:-:|\n",
        "|kor|2017|51096415|\n",
        "|kor|2018|51171706|\n",
        "|kor|2019|51225308|\n",
        "\n",
        "- 지역, 연도, 인구수\n",
        "\n",
        "### data3\n",
        "\n",
        "|geo|country|\n",
        "|:-:|:-:|\n",
        "|kor|South Korea|\n",
        "\n",
        "- 지역, 나라 이름"
      ]
    },
    {
      "cell_type": "markdown",
      "metadata": {
        "id": "_45iUXguF3cJ"
      },
      "source": [
        "### 1. Load and Explore the Data\n",
        "\n",
        "- 데이터셋을 데이터프레임으로 불러오세요.\n",
        "- 결측데이터를 확인하세요.\n",
        "- `time` vs `cell_phones_total`에 대해서 `scatter plot`을 그리세요.\n"
      ]
    },
    {
      "cell_type": "code",
      "metadata": {
        "id": "ewdGy4NfG9vA",
        "colab": {
          "base_uri": "https://localhost:8080/",
          "height": 290
        },
        "outputId": "08f74188-e7ed-4f3e-aa8b-a6af4c444b10"
      },
      "source": [
        " import pandas as pd\n",
        " import matplotlib.pyplot as plt\n",
        "\n",
        "data1_url = 'https://ds-lecture-data.s3.ap-northeast-2.amazonaws.com/gapminder/data1.csv'\n",
        "data2_url = 'https://ds-lecture-data.s3.ap-northeast-2.amazonaws.com/gapminder/data2.csv'\n",
        "data3_url = 'https://ds-lecture-data.s3.ap-northeast-2.amazonaws.com/gapminder/data3.csv'\n",
        "\n",
        "df1 = pd.read_csv(data1_url)\n",
        "df2 = pd.read_csv(data2_url)\n",
        "df3 = pd.read_csv(data3_url)\n",
        "\n",
        "#첫번째 열 제거\n",
        "df1.drop(df1.columns[[0]],axis=1, inplace=True)\n",
        "df2.drop(df2.columns[[0]],axis=1, inplace=True)\n",
        "df3.drop(df3.columns[[0]],axis=1, inplace=True)\n",
        "\n",
        "# 결측치 알아보기\n",
        "df1.isnull().sum()\n",
        "df2.isnull().sum()\n",
        "df3.isnull().sum()\n",
        "\n",
        "plt.scatter(df1['time'],df1['cell_phones_total'])\n",
        "plt.xlabel('time')\n",
        "plt.ylabel('cell_phones_total')\n",
        "plt.show()\n",
        "\n"
      ],
      "execution_count": 6,
      "outputs": [
        {
          "output_type": "display_data",
          "data": {
            "image/png": "[encoded data removed]",
            "text/plain": [
              "<Figure size 432x288 with 1 Axes>"
            ]
          },
          "metadata": {
            "needs_background": "light"
          }
        }
      ]
    },
    {
      "cell_type": "markdown",
      "metadata": {
        "id": "IvJMtxmBI27k"
      },
      "source": [
        "### 2. Join data\n",
        "\n",
        "다음 데이터를 만드세요. (shape = 9568 * 5)\n",
        "\n",
        "|geo|time|cell_phones_total|population|country|\n",
        "|:-:|:-:|:-:|:-:|:-:|\n",
        "|abw|1960|0|54211|Aruba|\n",
        "|...|...|...|...|...|\n",
        "|zwe|2019|13195902.0|14645468|Zimbabwe|\n"
      ]
    },
    {
      "cell_type": "code",
      "metadata": {
        "id": "MFMA06QjG1KT",
        "colab": {
          "base_uri": "https://localhost:8080/",
          "height": 423
        },
        "outputId": "fedf0356-3af3-4072-c43f-bac5dbc81b20"
      },
      "source": [
        "join_df = pd.merge(df1,df2,on  = ['time', 'geo'])\n",
        "join_df1 = pd.merge(join_df, df3, on = ['geo'])\n",
        "join_df1"
      ],
      "execution_count": 8,
      "outputs": [
        {
          "output_type": "execute_result",
          "data": {
            "text/html": [
              "<div>\n",
              "<style scoped>\n",
              "    .dataframe tbody tr th:only-of-type {\n",
              "        vertical-align: middle;\n",
              "    }\n",
              "\n",
              "    .dataframe tbody tr th {\n",
              "        vertical-align: top;\n",
              "    }\n",
              "\n",
              "    .dataframe thead th {\n",
              "        text-align: right;\n",
              "    }\n",
              "</style>\n",
              "<table border=\"1\" class=\"dataframe\">\n",
              "  <thead>\n",
              "    <tr style=\"text-align: right;\">\n",
              "      <th></th>\n",
              "      <th>geo</th>\n",
              "      <th>time</th>\n",
              "      <th>cell_phones_total</th>\n",
              "      <th>population</th>\n",
              "      <th>country</th>\n",
              "    </tr>\n",
              "  </thead>\n",
              "  <tbody>\n",
              "    <tr>\n",
              "      <th>0</th>\n",
              "      <td>abw</td>\n",
              "      <td>1960</td>\n",
              "      <td>0.0</td>\n",
              "      <td>54211</td>\n",
              "      <td>Aruba</td>\n",
              "    </tr>\n",
              "    <tr>\n",
              "      <th>1</th>\n",
              "      <td>abw</td>\n",
              "      <td>1965</td>\n",
              "      <td>0.0</td>\n",
              "      <td>57360</td>\n",
              "      <td>Aruba</td>\n",
              "    </tr>\n",
              "    <tr>\n",
              "      <th>2</th>\n",
              "      <td>abw</td>\n",
              "      <td>1970</td>\n",
              "      <td>0.0</td>\n",
              "      <td>59063</td>\n",
              "      <td>Aruba</td>\n",
              "    </tr>\n",
              "    <tr>\n",
              "      <th>3</th>\n",
              "      <td>abw</td>\n",
              "      <td>1975</td>\n",
              "      <td>0.0</td>\n",
              "      <td>60657</td>\n",
              "      <td>Aruba</td>\n",
              "    </tr>\n",
              "    <tr>\n",
              "      <th>4</th>\n",
              "      <td>abw</td>\n",
              "      <td>1976</td>\n",
              "      <td>0.0</td>\n",
              "      <td>60586</td>\n",
              "      <td>Aruba</td>\n",
              "    </tr>\n",
              "    <tr>\n",
              "      <th>...</th>\n",
              "      <td>...</td>\n",
              "      <td>...</td>\n",
              "      <td>...</td>\n",
              "      <td>...</td>\n",
              "      <td>...</td>\n",
              "    </tr>\n",
              "    <tr>\n",
              "      <th>9563</th>\n",
              "      <td>zwe</td>\n",
              "      <td>2015</td>\n",
              "      <td>12757410.0</td>\n",
              "      <td>13814629</td>\n",
              "      <td>Zimbabwe</td>\n",
              "    </tr>\n",
              "    <tr>\n",
              "      <th>9564</th>\n",
              "      <td>zwe</td>\n",
              "      <td>2016</td>\n",
              "      <td>12878926.0</td>\n",
              "      <td>14030331</td>\n",
              "      <td>Zimbabwe</td>\n",
              "    </tr>\n",
              "    <tr>\n",
              "      <th>9565</th>\n",
              "      <td>zwe</td>\n",
              "      <td>2017</td>\n",
              "      <td>14092104.0</td>\n",
              "      <td>14236595</td>\n",
              "      <td>Zimbabwe</td>\n",
              "    </tr>\n",
              "    <tr>\n",
              "      <th>9566</th>\n",
              "      <td>zwe</td>\n",
              "      <td>2018</td>\n",
              "      <td>12908992.0</td>\n",
              "      <td>14438802</td>\n",
              "      <td>Zimbabwe</td>\n",
              "    </tr>\n",
              "    <tr>\n",
              "      <th>9567</th>\n",
              "      <td>zwe</td>\n",
              "      <td>2019</td>\n",
              "      <td>13195902.0</td>\n",
              "      <td>14645468</td>\n",
              "      <td>Zimbabwe</td>\n",
              "    </tr>\n",
              "  </tbody>\n",
              "</table>\n",
              "<p>9568 rows × 5 columns</p>\n",
              "</div>"
            ],
            "text/plain": [
              "      geo  time  cell_phones_total  population   country\n",
              "0     abw  1960                0.0       54211     Aruba\n",
              "1     abw  1965                0.0       57360     Aruba\n",
              "2     abw  1970                0.0       59063     Aruba\n",
              "3     abw  1975                0.0       60657     Aruba\n",
              "4     abw  1976                0.0       60586     Aruba\n",
              "...   ...   ...                ...         ...       ...\n",
              "9563  zwe  2015         12757410.0    13814629  Zimbabwe\n",
              "9564  zwe  2016         12878926.0    14030331  Zimbabwe\n",
              "9565  zwe  2017         14092104.0    14236595  Zimbabwe\n",
              "9566  zwe  2018         12908992.0    14438802  Zimbabwe\n",
              "9567  zwe  2019         13195902.0    14645468  Zimbabwe\n",
              "\n",
              "[9568 rows x 5 columns]"
            ]
          },
          "metadata": {},
          "execution_count": 8
        }
      ]
    },
    {
      "cell_type": "markdown",
      "metadata": {
        "id": "8xjRfkOjKECI"
      },
      "source": [
        "### 3. Feature Engineering\n",
        "\n",
        "인구당 cell phone의 수를 표기한 `PPP`라는 feature를 추가하세요. \n",
        "\n",
        "그 결과로 2019년 한국에서 PPP가 1.3448이 나와야 합니다. (해당 내역을 보여주세요.)"
      ]
    },
    {
      "cell_type": "code",
      "metadata": {
        "id": "v_bH-SdgQ3O_",
        "colab": {
          "base_uri": "https://localhost:8080/",
          "height": 81
        },
        "outputId": "9c7fbdb4-f470-4c1d-8392-4aa3ec9b6c2e"
      },
      "source": [
        "join_df1.dtypes\n",
        "join_df1['PPP'] = join_df1['cell_phones_total']/join_df1['population']\n",
        "K19ppp=join_df1[(join_df1['geo']=='kor')&(join_df1['time']==2019)]\n",
        "\n",
        "K19ppp"
      ],
      "execution_count": 9,
      "outputs": [
        {
          "output_type": "execute_result",
          "data": {
            "text/html": [
              "<div>\n",
              "<style scoped>\n",
              "    .dataframe tbody tr th:only-of-type {\n",
              "        vertical-align: middle;\n",
              "    }\n",
              "\n",
              "    .dataframe tbody tr th {\n",
              "        vertical-align: top;\n",
              "    }\n",
              "\n",
              "    .dataframe thead th {\n",
              "        text-align: right;\n",
              "    }\n",
              "</style>\n",
              "<table border=\"1\" class=\"dataframe\">\n",
              "  <thead>\n",
              "    <tr style=\"text-align: right;\">\n",
              "      <th></th>\n",
              "      <th>geo</th>\n",
              "      <th>time</th>\n",
              "      <th>cell_phones_total</th>\n",
              "      <th>population</th>\n",
              "      <th>country</th>\n",
              "      <th>PPP</th>\n",
              "    </tr>\n",
              "  </thead>\n",
              "  <tbody>\n",
              "    <tr>\n",
              "      <th>4805</th>\n",
              "      <td>kor</td>\n",
              "      <td>2019</td>\n",
              "      <td>68892541.0</td>\n",
              "      <td>51225308</td>\n",
              "      <td>South Korea</td>\n",
              "      <td>1.344893</td>\n",
              "    </tr>\n",
              "  </tbody>\n",
              "</table>\n",
              "</div>"
            ],
            "text/plain": [
              "      geo  time  cell_phones_total  population      country       PPP\n",
              "4805  kor  2019         68892541.0    51225308  South Korea  1.344893"
            ]
          },
          "metadata": {},
          "execution_count": 9
        }
      ]
    },
    {
      "cell_type": "markdown",
      "metadata": {
        "id": "j2xDq7MAKRjg"
      },
      "source": [
        "### 4. Data Manipulation\n",
        "\n",
        "각 나라별로 평균 PPP를 계산하세요."
      ]
    },
    {
      "cell_type": "code",
      "metadata": {
        "id": "AVQYb2q6Q4GH",
        "colab": {
          "base_uri": "https://localhost:8080/",
          "height": 423
        },
        "outputId": "cfd3260b-ea78-4298-f75e-7681622c3fe7"
      },
      "source": [
        "geo_pm=join_df1.groupby(['geo'], as_index=False).mean()\n",
        "geo_pm =geo_pm[['geo','PPP']]\n",
        "geo_pm"
      ],
      "execution_count": 11,
      "outputs": [
        {
          "output_type": "execute_result",
          "data": {
            "text/html": [
              "<div>\n",
              "<style scoped>\n",
              "    .dataframe tbody tr th:only-of-type {\n",
              "        vertical-align: middle;\n",
              "    }\n",
              "\n",
              "    .dataframe tbody tr th {\n",
              "        vertical-align: top;\n",
              "    }\n",
              "\n",
              "    .dataframe thead th {\n",
              "        text-align: right;\n",
              "    }\n",
              "</style>\n",
              "<table border=\"1\" class=\"dataframe\">\n",
              "  <thead>\n",
              "    <tr style=\"text-align: right;\">\n",
              "      <th></th>\n",
              "      <th>geo</th>\n",
              "      <th>PPP</th>\n",
              "    </tr>\n",
              "  </thead>\n",
              "  <tbody>\n",
              "    <tr>\n",
              "      <th>0</th>\n",
              "      <td>abw</td>\n",
              "      <td>0.384005</td>\n",
              "    </tr>\n",
              "    <tr>\n",
              "      <th>1</th>\n",
              "      <td>afg</td>\n",
              "      <td>0.133398</td>\n",
              "    </tr>\n",
              "    <tr>\n",
              "      <th>2</th>\n",
              "      <td>ago</td>\n",
              "      <td>0.124074</td>\n",
              "    </tr>\n",
              "    <tr>\n",
              "      <th>3</th>\n",
              "      <td>alb</td>\n",
              "      <td>0.324242</td>\n",
              "    </tr>\n",
              "    <tr>\n",
              "      <th>4</th>\n",
              "      <td>and</td>\n",
              "      <td>0.347083</td>\n",
              "    </tr>\n",
              "    <tr>\n",
              "      <th>...</th>\n",
              "      <td>...</td>\n",
              "      <td>...</td>\n",
              "    </tr>\n",
              "    <tr>\n",
              "      <th>208</th>\n",
              "      <td>wsm</td>\n",
              "      <td>0.121033</td>\n",
              "    </tr>\n",
              "    <tr>\n",
              "      <th>209</th>\n",
              "      <td>yem</td>\n",
              "      <td>0.136329</td>\n",
              "    </tr>\n",
              "    <tr>\n",
              "      <th>210</th>\n",
              "      <td>zaf</td>\n",
              "      <td>0.422318</td>\n",
              "    </tr>\n",
              "    <tr>\n",
              "      <th>211</th>\n",
              "      <td>zmb</td>\n",
              "      <td>0.173231</td>\n",
              "    </tr>\n",
              "    <tr>\n",
              "      <th>212</th>\n",
              "      <td>zwe</td>\n",
              "      <td>0.200687</td>\n",
              "    </tr>\n",
              "  </tbody>\n",
              "</table>\n",
              "<p>213 rows × 2 columns</p>\n",
              "</div>"
            ],
            "text/plain": [
              "     geo       PPP\n",
              "0    abw  0.384005\n",
              "1    afg  0.133398\n",
              "2    ago  0.124074\n",
              "3    alb  0.324242\n",
              "4    and  0.347083\n",
              "..   ...       ...\n",
              "208  wsm  0.121033\n",
              "209  yem  0.136329\n",
              "210  zaf  0.422318\n",
              "211  zmb  0.173231\n",
              "212  zwe  0.200687\n",
              "\n",
              "[213 rows x 2 columns]"
            ]
          },
          "metadata": {},
          "execution_count": 11
        }
      ]
    },
    {
      "cell_type": "markdown",
      "metadata": {
        "id": "KXEmo_HdKy_5"
      },
      "source": [
        "가장 많은 PPP 값을 갖는 top 10 (geo) 를 구하세요.\n",
        "\n",
        "다음과 비슷한 결과가 나와야 합니다. \n",
        "\n",
        "|geo|PPP|\n",
        "|:-:|:-:|\n",
        "|are|0.741916|\n",
        "|sau|0.757034|\n",
        "|lie|0.806225|\n",
        "|hkg|0.810664|\n",
        "|mac|0.818130|\n",
        "|isr|0.840197|\n",
        "|srb|0.951586|\n",
        "|nld_curacao|1.259227|\n",
        "|mne|1.574349|\n",
        "|sxm|1.899506|\n"
      ]
    },
    {
      "cell_type": "code",
      "metadata": {
        "id": "NbCVBsBIK06K",
        "colab": {
          "base_uri": "https://localhost:8080/",
          "height": 362
        },
        "outputId": "36f92d91-9836-4dcc-c6d7-b4f31ee0e1e3"
      },
      "source": [
        "\n",
        "#geo_pm.nlargest(10, ['PPP'], keep='first').style.hide_index()\n",
        "\n",
        "geo_pm.sort_values(by='PPP', axis = 0).tail(10).style.hide_index()"
      ],
      "execution_count": 12,
      "outputs": [
        {
          "output_type": "execute_result",
          "data": {
            "text/html": [
              "<style  type=\"text/css\" >\n",
              "</style><table id=\"T_8938f20e_4c08_11ec_afbb_0242ac1c0002\" class=\"dataframe\"><thead>    <tr>        <th class=\"col_heading level0 col0\" >geo</th>        <th class=\"col_heading level0 col1\" >PPP</th>    </tr></thead><tbody>\n",
              "                <tr>\n",
              "                                <td id=\"T_8938f20e_4c08_11ec_afbb_0242ac1c0002row0_col0\" class=\"data row0 col0\" >are</td>\n",
              "                        <td id=\"T_8938f20e_4c08_11ec_afbb_0242ac1c0002row0_col1\" class=\"data row0 col1\" >0.741916</td>\n",
              "            </tr>\n",
              "            <tr>\n",
              "                                <td id=\"T_8938f20e_4c08_11ec_afbb_0242ac1c0002row1_col0\" class=\"data row1 col0\" >sau</td>\n",
              "                        <td id=\"T_8938f20e_4c08_11ec_afbb_0242ac1c0002row1_col1\" class=\"data row1 col1\" >0.757034</td>\n",
              "            </tr>\n",
              "            <tr>\n",
              "                                <td id=\"T_8938f20e_4c08_11ec_afbb_0242ac1c0002row2_col0\" class=\"data row2 col0\" >lie</td>\n",
              "                        <td id=\"T_8938f20e_4c08_11ec_afbb_0242ac1c0002row2_col1\" class=\"data row2 col1\" >0.806225</td>\n",
              "            </tr>\n",
              "            <tr>\n",
              "                                <td id=\"T_8938f20e_4c08_11ec_afbb_0242ac1c0002row3_col0\" class=\"data row3 col0\" >hkg</td>\n",
              "                        <td id=\"T_8938f20e_4c08_11ec_afbb_0242ac1c0002row3_col1\" class=\"data row3 col1\" >0.810664</td>\n",
              "            </tr>\n",
              "            <tr>\n",
              "                                <td id=\"T_8938f20e_4c08_11ec_afbb_0242ac1c0002row4_col0\" class=\"data row4 col0\" >mac</td>\n",
              "                        <td id=\"T_8938f20e_4c08_11ec_afbb_0242ac1c0002row4_col1\" class=\"data row4 col1\" >0.818130</td>\n",
              "            </tr>\n",
              "            <tr>\n",
              "                                <td id=\"T_8938f20e_4c08_11ec_afbb_0242ac1c0002row5_col0\" class=\"data row5 col0\" >isr</td>\n",
              "                        <td id=\"T_8938f20e_4c08_11ec_afbb_0242ac1c0002row5_col1\" class=\"data row5 col1\" >0.840197</td>\n",
              "            </tr>\n",
              "            <tr>\n",
              "                                <td id=\"T_8938f20e_4c08_11ec_afbb_0242ac1c0002row6_col0\" class=\"data row6 col0\" >srb</td>\n",
              "                        <td id=\"T_8938f20e_4c08_11ec_afbb_0242ac1c0002row6_col1\" class=\"data row6 col1\" >0.951586</td>\n",
              "            </tr>\n",
              "            <tr>\n",
              "                                <td id=\"T_8938f20e_4c08_11ec_afbb_0242ac1c0002row7_col0\" class=\"data row7 col0\" >nld_curacao</td>\n",
              "                        <td id=\"T_8938f20e_4c08_11ec_afbb_0242ac1c0002row7_col1\" class=\"data row7 col1\" >1.259227</td>\n",
              "            </tr>\n",
              "            <tr>\n",
              "                                <td id=\"T_8938f20e_4c08_11ec_afbb_0242ac1c0002row8_col0\" class=\"data row8 col0\" >mne</td>\n",
              "                        <td id=\"T_8938f20e_4c08_11ec_afbb_0242ac1c0002row8_col1\" class=\"data row8 col1\" >1.574349</td>\n",
              "            </tr>\n",
              "            <tr>\n",
              "                                <td id=\"T_8938f20e_4c08_11ec_afbb_0242ac1c0002row9_col0\" class=\"data row9 col0\" >sxm</td>\n",
              "                        <td id=\"T_8938f20e_4c08_11ec_afbb_0242ac1c0002row9_col1\" class=\"data row9 col1\" >1.899506</td>\n",
              "            </tr>\n",
              "    </tbody></table>"
            ],
            "text/plain": [
              "<pandas.io.formats.style.Styler at 0x7f728cce33d0>"
            ]
          },
          "metadata": {},
          "execution_count": 12
        }
      ]
    },
    {
      "cell_type": "markdown",
      "metadata": {
        "id": "RcBnaSW_LYSk"
      },
      "source": [
        "## EDA\n",
        "이번 파트에서는 **FiveThirtyEight's article, [Every Guest Jon Stewart Ever Had On ‘The Daily Show’](https://fivethirtyeight.com/features/every-guest-jon-stewart-ever-had-on-the-daily-show/)** 의 데이터를 다루게 됩니다.\n",
        "\n",
        "\n",
        "아래의 코드는 이미 여러분들을 위해 준비되어 있습니다. 아래 cell 을 실행하면 자동으로 data 가 load 되며, `df`라는 이름의 dataframe 을 얻게 될 겁니다. \n",
        "\n",
        "(원하신다면 추가 EDA를 하셔도 상관없지만, 이번 파트에서의 요구사항은 아닙니다.)\n"
      ]
    },
    {
      "cell_type": "code",
      "metadata": {
        "id": "pc7YmWvlLas5",
        "tags": [],
        "colab": {
          "base_uri": "https://localhost:8080/",
          "height": 256
        },
        "outputId": "ca836f62-4f7c-4fd2-ea5d-9328b8072d97"
      },
      "source": [
        "%matplotlib inline\n",
        "import matplotlib.pyplot as plt\n",
        "import numpy as np\n",
        "import pandas as pd\n",
        "import seaborn as sns\n",
        "\n",
        "cable_news_url = 'https://raw.githubusercontent.com/fivethirtyeight/data/master/media-mentions-2020/cable_weekly.csv'\n",
        "online_news_url = 'https://raw.githubusercontent.com/fivethirtyeight/data/master/media-mentions-2020/online_weekly.csv'\n",
        "\n",
        "cable = pd.read_csv(cable_news_url)\n",
        "online = pd.read_csv(online_news_url)\n",
        "\n",
        "merged = pd.merge(cable[['date', 'name', 'pct_of_all_candidate_clips']], online[['date', 'name', 'pct_of_all_candidate_stories']])\n",
        "merged['date'] = pd.to_datetime(merged['date'], infer_datetime_format=True)\n",
        "merged = merged.set_index('date')\n",
        "\n",
        "unique_dates = list(set(merged.index.to_list()))\n",
        "\n",
        "import datetime\n",
        "\n",
        "joe_biden_cable_multiple = []\n",
        "joe_biden_online_multiple = []\n",
        "\n",
        "for date in unique_dates:\n",
        "  #that_day = merged.loc[datetime.date(year=date.year, month=date.month, day=date.day)]\n",
        "  str_date = str(date.year)+\"-\"+str(date.month) + \"-\" + str(date.day)\n",
        "  that_day = merged.loc[str_date]\n",
        "\n",
        "  joe_biden_cable_that_day = that_day[that_day['name']==\"Joe Biden\"]['pct_of_all_candidate_clips']\n",
        "  not_joe_biden_cable_max = that_day[that_day['name']!=\"Joe Biden\"]['pct_of_all_candidate_clips'].max()\n",
        "  joe_biden_cable_multiple_of_max = joe_biden_cable_that_day / not_joe_biden_cable_max\n",
        "\n",
        "  joe_biden_online_that_day = that_day[that_day['name']==\"Joe Biden\"]['pct_of_all_candidate_stories']\n",
        "  not_joe_biden_online_max = that_day[that_day['name']!=\"Joe Biden\"]['pct_of_all_candidate_stories'].max()\n",
        "  joe_biden_online_multiple_of_max = joe_biden_online_that_day / not_joe_biden_online_max\n",
        "\n",
        "\n",
        "  joe_biden_cable_multiple.append(joe_biden_cable_multiple_of_max.values[0])\n",
        "  joe_biden_online_multiple.append(joe_biden_online_multiple_of_max.values[0])\n",
        "\n",
        "df = pd.DataFrame({'date': unique_dates, 'biden_cable_multiple':joe_biden_cable_multiple, 'biden_online_multiple': joe_biden_online_multiple})\n",
        "df = df.set_index('date')\n",
        "df = df.sort_index()\n",
        "\n",
        "data_for_graph = df.loc[datetime.date(2019, 4, 15):]\n",
        "print(data_for_graph.shape)\n",
        "data_for_graph.head()"
      ],
      "execution_count": 13,
      "outputs": [
        {
          "output_type": "stream",
          "name": "stdout",
          "text": [
            "(27, 2)\n"
          ]
        },
        {
          "output_type": "execute_result",
          "data": {
            "text/html": [
              "<div>\n",
              "<style scoped>\n",
              "    .dataframe tbody tr th:only-of-type {\n",
              "        vertical-align: middle;\n",
              "    }\n",
              "\n",
              "    .dataframe tbody tr th {\n",
              "        vertical-align: top;\n",
              "    }\n",
              "\n",
              "    .dataframe thead th {\n",
              "        text-align: right;\n",
              "    }\n",
              "</style>\n",
              "<table border=\"1\" class=\"dataframe\">\n",
              "  <thead>\n",
              "    <tr style=\"text-align: right;\">\n",
              "      <th></th>\n",
              "      <th>biden_cable_multiple</th>\n",
              "      <th>biden_online_multiple</th>\n",
              "    </tr>\n",
              "    <tr>\n",
              "      <th>date</th>\n",
              "      <th></th>\n",
              "      <th></th>\n",
              "    </tr>\n",
              "  </thead>\n",
              "  <tbody>\n",
              "    <tr>\n",
              "      <th>2019-04-21</th>\n",
              "      <td>3.087352</td>\n",
              "      <td>1.107492</td>\n",
              "    </tr>\n",
              "    <tr>\n",
              "      <th>2019-04-28</th>\n",
              "      <td>3.707641</td>\n",
              "      <td>1.295820</td>\n",
              "    </tr>\n",
              "    <tr>\n",
              "      <th>2019-05-05</th>\n",
              "      <td>2.805169</td>\n",
              "      <td>1.306122</td>\n",
              "    </tr>\n",
              "    <tr>\n",
              "      <th>2019-05-12</th>\n",
              "      <td>3.235849</td>\n",
              "      <td>1.045386</td>\n",
              "    </tr>\n",
              "    <tr>\n",
              "      <th>2019-05-19</th>\n",
              "      <td>2.494624</td>\n",
              "      <td>1.119588</td>\n",
              "    </tr>\n",
              "  </tbody>\n",
              "</table>\n",
              "</div>"
            ],
            "text/plain": [
              "            biden_cable_multiple  biden_online_multiple\n",
              "date                                                   \n",
              "2019-04-21              3.087352               1.107492\n",
              "2019-04-28              3.707641               1.295820\n",
              "2019-05-05              2.805169               1.306122\n",
              "2019-05-12              3.235849               1.045386\n",
              "2019-05-19              2.494624               1.119588"
            ]
          },
          "metadata": {},
          "execution_count": 13
        }
      ]
    },
    {
      "cell_type": "markdown",
      "metadata": {
        "id": "UthoeNABLwau"
      },
      "source": [
        "아래의 그림을 따라 그리세요 :\n",
        "\n",
        "<img src='https://fivethirtyeight.com/wp-content/uploads/2019/10/Mehta-Media1028-1028-1.png' width = 500>\n"
      ]
    },
    {
      "cell_type": "markdown",
      "metadata": {
        "id": "WEHUhxlTL2w2"
      },
      "source": [
        "\n",
        "여러분들이 새로 만들게 될 plot은 다음을 만족해야 합니다:\n",
        "- `example`과 유사한 `Cable News` vs `Online News` 2개의 line graph가 보여야 합니다. \n",
        "- 각 라인은 각각 **다른** 색깔을 가져야 합니다. (위 `example` 과 반드시 같은 색일 필요는 없습니다)\n",
        "- 타이틀을 다음 내용으로 만드세요. _\"Biden's Ukraine-related media bump is fading\"_\n"
      ]
    },
    {
      "cell_type": "code",
      "metadata": {
        "id": "J-T3IU__L0ih",
        "colab": {
          "base_uri": "https://localhost:8080/",
          "height": 307
        },
        "outputId": "11798e1a-016c-4637-ea09-38cb31d3ea5c"
      },
      "source": [
        "y1 = data_for_graph['biden_cable_multiple']\n",
        "y2 = data_for_graph['biden_online_multiple']\n",
        "ax1= y1.plot()\n",
        "ax2= y2.plot()\n",
        "plt.title(\"\\\"Biden's Ukraine-related media bump is fading\\\"\")\n",
        "plt.show()"
      ],
      "execution_count": 14,
      "outputs": [
        {
          "output_type": "display_data",
          "data": {
            "image/png": "[encoded data removed]",
            "text/plain": [
              "<Figure size 432x288 with 1 Axes>"
            ]
          },
          "metadata": {
            "needs_background": "light"
          }
        }
      ]
    },
    {
      "cell_type": "markdown",
      "metadata": {
        "id": "svbK28PWNCic"
      },
      "source": [
        "## SC 3점 요구사항:\n",
        "\n",
        "위에서 요구된 사항들을 모두 정확하게 만족하였으며, 아직 시간이 남았다면 아래 2개의 내용들중 하나를 만족하는 경우 3점을 얻을 수 있습니다. \n",
        "\n",
        "아래 요구사항들은 모두 **optional** 임을 다시 한 번 강조합니다. (필수 요구사항이 아닙니다.)\n",
        "\n",
        "## 1. Data Preprocessing\n",
        "\n",
        "- `cell_phones`dataframe 에서 필터를 걸어 USA 와 china 정보만 담게 하고, scatter plot 을 다시 그려 보세요. \n",
        "\n",
        "- geo code 를 lowercase가 아닌 uppercase 로 바꿔보세요. \n",
        "\n",
        "- 2017년은 China가 people(인구수)보다 cell phone 개수가 더 많아지는 첫번째 년도 입니다. \n",
        "미국의 경우, cell phone의 개수가 people 보다 더 많아지는 첫번째 년도는 언제인가요?\n",
        "\n",
        "## 2. EDA\n",
        "\n",
        "- 주어진 fivethirtyeight 그림 차트와 완벽히 동일하게 그려보세요. \n"
      ]
    },
    {
      "cell_type": "code",
      "metadata": {
        "id": "tkayYpKa_bcW"
      },
      "source": [
        ""
      ],
      "execution_count": null,
      "outputs": []
    }
  ]
}