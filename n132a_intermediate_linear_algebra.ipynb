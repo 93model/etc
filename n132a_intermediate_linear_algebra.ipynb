{
  "nbformat": 4,
  "nbformat_minor": 0,
  "metadata": {
    "colab": {
      "name": "n132a-intermediate-linear-algebra.ipynb",
      "provenance": [],
      "include_colab_link": true
    },
    "kernelspec": {
      "display_name": "Python 3",
      "language": "python",
      "name": "python3"
    },
    "language_info": {
      "codemirror_mode": {
        "name": "ipython",
        "version": 3
      },
      "file_extension": ".py",
      "mimetype": "text/x-python",
      "name": "python",
      "nbconvert_exporter": "python",
      "pygments_lexer": "ipython3",
      "version": "3.8.2"
    }
  },
  "cells": [
    {
      "cell_type": "markdown",
      "metadata": {
        "id": "view-in-github",
        "colab_type": "text"
      },
      "source": [
        "<a href=\"https://colab.research.google.com/github/93model/93model/blob/master/n132a_intermediate_linear_algebra.ipynb\" target=\"_parent\"><img src=\"https://colab.research.google.com/assets/colab-badge.svg\" alt=\"Open In Colab\"/></a>"
      ]
    },
    {
      "cell_type": "markdown",
      "metadata": {
        "id": "GSNiYn8lr6nN"
      },
      "source": [
        "<img src='https://i.imgur.com/RDAD11M.png' width = '200' align = 'right'>\n",
        "\n",
        "## *DATA SCIENCE / SECTION 1 / SPRINT 3 / NOTE 2*\n",
        "\n",
        "# 📝 Assignment\n"
      ]
    },
    {
      "cell_type": "markdown",
      "metadata": {
        "id": "3d4izUhQvh2_"
      },
      "source": [
        "## 1. 주어진 리스트에 대해서 평균, 분산, 표준편차를 구하는 함수를 작성해보세요. (`mean`같은 builtin function 제외)\n",
        "> [243, 278, 184, 249, 207] 에 대해서 해당 함수를 사용한 결과가 아래와 같으면 정답입니다. (소수점 두자리까지만 보여드립니다)\n",
        "- mean : 232.2\n",
        "- var : 1090.96\n",
        "- std : 33.03"
      ]
    },
    {
      "cell_type": "code",
      "metadata": {
        "id": "w1iZfYvBtEA1"
      },
      "source": [
        "import numpy as np\n",
        "\n",
        "def mymean(v):\n",
        "    result = sum(v)\n",
        "    return result/len(v)\n",
        "\n",
        "\n",
        "def myvar(v):\n",
        "   return sum((v - np.mean(v)) **2) /len(exp)\n",
        "\n",
        "def mystd(v):\n",
        "\n",
        "    return np.sqrt(myvar(v))\n"
      ],
      "execution_count": null,
      "outputs": []
    },
    {
      "cell_type": "code",
      "metadata": {
        "colab": {
          "base_uri": "https://localhost:8080/"
        },
        "id": "5LY4-9umw1gG",
        "outputId": "10f6b2e2-6637-457a-b6ac-313bedc3d735"
      },
      "source": [
        "exp=[243, 278, 184, 249, 207] \n",
        "\n",
        "print('mean :',mymean(exp),\n",
        "      '\\nvar :',myvar(exp),\n",
        "      '\\nstd :',mystd(exp))"
      ],
      "execution_count": null,
      "outputs": [
        {
          "output_type": "stream",
          "name": "stdout",
          "text": [
            "mean : 232.2 \n",
            "var : 1090.96 \n",
            "std : 33.02968361943541\n"
          ]
        }
      ]
    },
    {
      "cell_type": "markdown",
      "metadata": {
        "id": "oh63KaOctEp_"
      },
      "source": [
        "## 2. 위에서 사용된 데이터와 다음 데이터의 공분산과, 상관계수를 구해보세요\n",
        "> [88, 89, 83, 112, 104]\n",
        "\n",
        "cov, corrcoef"
      ]
    },
    {
      "cell_type": "code",
      "metadata": {
        "id": "G7ZB0krot564",
        "colab": {
          "base_uri": "https://localhost:8080/"
        },
        "outputId": "86c007ee-5b10-40bc-805b-3b860780ecef"
      },
      "source": [
        "\n",
        "exp2 = [88, 89, 83, 112, 104]\n",
        "res4 = np.cov(exp,exp2)[0,1] # 공분산\n",
        "res5 = np.corrcoef(exp, exp2)[0,1]# 상관계수\n",
        "\n",
        "\n",
        "print('공분산 :',res4,\n",
        "      '\\n상관계수 :',res5)"
      ],
      "execution_count": null,
      "outputs": [
        {
          "output_type": "stream",
          "name": "stdout",
          "text": [
            "공분산 : 71.7 \n",
            "상관계수 : 0.1586897351257077\n"
          ]
        }
      ]
    },
    {
      "cell_type": "code",
      "metadata": {
        "id": "wgEMHkEjWPn0",
        "colab": {
          "base_uri": "https://localhost:8080/"
        },
        "outputId": "9d683dc6-8e21-404d-c64b-a1936b3cf49e"
      },
      "source": [
        ""
      ],
      "execution_count": null,
      "outputs": [
        {
          "output_type": "stream",
          "name": "stdout",
          "text": [
            "공분산 : 71.7 \n",
            "상관계수 : 0.1586897351257077\n"
          ]
        }
      ]
    },
    {
      "cell_type": "markdown",
      "metadata": {
        "id": "86iXLzwM2z8l"
      },
      "source": [
        "## 3. 다음 벡터들의 span과, 이가 의미하는 바를 설명하세요. \n",
        "\n",
        "\\begin{align}\n",
        "g = \\begin{bmatrix} 1 & 3 \\end{bmatrix}\n",
        "\\qquad\n",
        "h = \\begin{bmatrix} 2 & 6 \\end{bmatrix}\n",
        "\\end{align}"
      ]
    },
    {
      "cell_type": "code",
      "metadata": {
        "id": "fNpSjPcOScgH"
      },
      "source": [
        "res6 = # span (차원 수)"
      ],
      "execution_count": null,
      "outputs": []
    },
    {
      "cell_type": "code",
      "metadata": {
        "id": "-9Y_N2_Z5OEQ",
        "colab": {
          "base_uri": "https://localhost:8080/"
        },
        "outputId": "0c158124-dce5-404a-fa73-ae4479a91047"
      },
      "source": [
        "g = np.array([1, 3])\n",
        "h = np.array([2, 6])\n",
        "\n",
        "gh_matrix = np.stack((g, h))\n",
        "\n",
        "res6 = np.linalg.matrix_rank(gh_matrix)\n",
        "\n",
        "res6 \n",
        "print(res6, '두 벡터가 한 직선 위에 있는 선형 종속 벡터이다')\n"
      ],
      "execution_count": null,
      "outputs": [
        {
          "output_type": "stream",
          "name": "stdout",
          "text": [
            "1 두 벡터가 한 직선 위에 있는 선형 종속 벡터이다\n"
          ]
        }
      ]
    },
    {
      "cell_type": "markdown",
      "metadata": {
        "id": "l1deylUj4IHH"
      },
      "source": [
        "## 4. 다음 벡터들의 span과, 이가 의미하는 바를 설명하세요.\n",
        "\n",
        "\\begin{align}\n",
        "l = \\begin{bmatrix} 1 & 2 & 3 \\end{bmatrix}\n",
        "\\qquad\n",
        "m = \\begin{bmatrix} -1 & 0 & 7 \\end{bmatrix}\n",
        "\\qquad\n",
        "n = \\begin{bmatrix} 4 & 8  & 2\\end{bmatrix}\n",
        "\\end{align}"
      ]
    },
    {
      "cell_type": "code",
      "metadata": {
        "id": "NWZ36G8QTMob"
      },
      "source": [
        "res7 = # span (차원 수)"
      ],
      "execution_count": null,
      "outputs": []
    },
    {
      "cell_type": "code",
      "metadata": {
        "id": "XH-BlPKl5Ofa",
        "colab": {
          "base_uri": "https://localhost:8080/"
        },
        "outputId": "4e5c7029-e358-40b2-f609-00f78bade64f"
      },
      "source": [
        "# 이곳에 답안을 작성하시기 바랍니다\n",
        "l = np.array([1,2, 3])\n",
        "m = np.array([-1,0, 7])\n",
        "n = np.array([4,8, 2])\n",
        "\n",
        "gh_matrix = np.stack((l, m,n))\n",
        "\n",
        "res7 = np.linalg.matrix_rank(gh_matrix)\n",
        "\n",
        "res7 \n",
        "print(res7, '세 벡터는 선형 독립 벡터이다')\n",
        "\n"
      ],
      "execution_count": null,
      "outputs": [
        {
          "output_type": "stream",
          "name": "stdout",
          "text": [
            "3 세 벡터는 선형 독립 벡터이다\n"
          ]
        }
      ]
    },
    {
      "cell_type": "markdown",
      "metadata": {
        "id": "IpJwt9kw6v8U"
      },
      "source": [
        "## 5. 다음 매트릭스의 rank를 구하세요\n",
        "\n",
        "\\begin{align}\n",
        "P = \\begin{bmatrix} \n",
        "0 & 2 & 5 \\\\\n",
        " 3 & 6 & 12 \\\\\n",
        "3 & 2 & 2\n",
        "\\end{bmatrix}\n",
        "\\end{align}"
      ]
    },
    {
      "cell_type": "code",
      "metadata": {
        "id": "CAzw0q3KTu5d"
      },
      "source": [
        "res8 = # rank"
      ],
      "execution_count": null,
      "outputs": []
    },
    {
      "cell_type": "code",
      "metadata": {
        "id": "zMVSt4I-WPn4",
        "colab": {
          "base_uri": "https://localhost:8080/"
        },
        "outputId": "697db6cc-2f57-428d-ea23-cf224d7a214d"
      },
      "source": [
        "# 이곳에 답안을 작성하시기 바랍니다\n",
        "p = np.array([[0, 2, 5], [3, 6, 12], [3, 2, 2]])\n",
        "\n",
        "res8 = np.linalg.matrix_rank(p)\n",
        "res8\n"
      ],
      "execution_count": null,
      "outputs": [
        {
          "output_type": "execute_result",
          "data": {
            "text/plain": [
              "2"
            ]
          },
          "metadata": {},
          "execution_count": 38
        }
      ]
    },
    {
      "cell_type": "markdown",
      "metadata": {
        "id": "yuEm0m2V8YSE"
      },
      "source": [
        ""
      ]
    },
    {
      "cell_type": "markdown",
      "metadata": {
        "id": "TKkrPwRM-Oar"
      },
      "source": [
        "# 🔥 도전과제 \n",
        "\n",
        "주어진 데이터 (x, y)에 대해서 `y = x` 라는 벡터에 대해 projection을 계산하는 함수를 작성하세요. \n",
        "- (x, y) 는 (0, 0) 에서 (x, y)로 가는 벡터라 가정합니다.\n",
        "\n",
        "이후\n",
        "\n",
        "- 입력된 데이터를 파란색 선으로, \n",
        "- `y = x` 라는 벡터를 빨간색 선으로, 마지막으로 \n",
        "- projection 된 선을 녹색 점선(dashed)으로 그래프에 그리세요."
      ]
    },
    {
      "cell_type": "code",
      "metadata": {
        "id": "cp52kZra-ykj"
      },
      "source": [
        "v = [7, 4]\n",
        "\n",
        "def myProjection():\n",
        "  # 채우세요.\n",
        "\n",
        "vprime = myProjection(v)"
      ],
      "execution_count": null,
      "outputs": []
    }
  ]
}